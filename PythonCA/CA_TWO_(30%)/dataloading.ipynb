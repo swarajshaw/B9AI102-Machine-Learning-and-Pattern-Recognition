{
 "cells": [
  {
   "cell_type": "code",
   "execution_count": 1,
   "metadata": {},
   "outputs": [
    {
     "name": "stdout",
     "output_type": "stream",
     "text": [
      "Requirement already satisfied: beautifulsoup4 in c:\\users\\swaraj\\appdata\\roaming\\python\\python39\\site-packages (4.10.0)\n",
      "Requirement already satisfied: soupsieve>1.2 in c:\\users\\swaraj\\appdata\\roaming\\python\\python39\\site-packages (from beautifulsoup4) (2.3.1)\n",
      "Note: you may need to restart the kernel to use updated packages.\n"
     ]
    }
   ],
   "source": [
    "#install beautifulsoup\n",
    "%pip install beautifulsoup4"
   ]
  },
  {
   "cell_type": "code",
   "execution_count": 1,
   "metadata": {},
   "outputs": [],
   "source": [
    "#Import Libraries\n",
    "import pandas as pd\n",
    "from datetime import datetime\n",
    "from urllib.request import urlopen\n",
    "from bs4 import BeautifulSoup\n",
    "import requests"
   ]
  },
  {
   "cell_type": "code",
   "execution_count": 6,
   "metadata": {},
   "outputs": [],
   "source": [
    "Rating=[]\n",
    "Title=[]\n",
    "Price=[]\n",
    "\n",
    "# for i in range(1,5):\n",
    "# URL='https://www.amazon.in/gp/bestsellers/computers/1375424031/ref=zg_bs_pg_'+str(i)+'?ie=UTF8&pg=' + str(i)\n",
    "URL= 'https://www.amazon.in/gp/bestsellers/computers/1375424031/ref=zg_bs_pg_1?ie=UTF8&pg=1'\n",
    "r = requests.get(URL) \n",
    "soup = BeautifulSoup(r.content, 'html.parser')\n",
    "\n",
    "rating = soup.find_all(\"div\", class_=\"a-icon-alt\")\n",
    "price = soup.find_all(\"div\", class_=\"p13n-sc-price\")\n",
    "title = soup.find_all(\"a\", class_=\"_p13n-zg-list-grid-desktop_truncationStyles_p13n-sc-css-line-clamp-3__g3dy1\")\n",
    "\n",
    "\n",
    "for a in title:\n",
    "    Title.append(a.text)\n",
    "for b in price:    \n",
    "    Price.append(b.text)\n",
    "for c in rating:    \n",
    "    Rating.append(c.text)  \n",
    "\n",
    "\n",
    "Price=list(map(lambda x: x.replace('₹',''),Price))\n",
    "Price=list(map(lambda x: x.replace(',',''),Price))\n"
   ]
  },
  {
   "cell_type": "code",
   "execution_count": null,
   "metadata": {},
   "outputs": [],
   "source": []
  }
 ],
 "metadata": {
  "interpreter": {
   "hash": "5fe1fcd2991f7baa594c143b16568e881f2bc5615b90488f548e6e6f590580f0"
  },
  "kernelspec": {
   "display_name": "Python 3.9.7 64-bit",
   "language": "python",
   "name": "python3"
  },
  "language_info": {
   "codemirror_mode": {
    "name": "ipython",
    "version": 3
   },
   "file_extension": ".py",
   "mimetype": "text/x-python",
   "name": "python",
   "nbconvert_exporter": "python",
   "pygments_lexer": "ipython3",
   "version": "3.9.7"
  },
  "orig_nbformat": 4
 },
 "nbformat": 4,
 "nbformat_minor": 2
}
