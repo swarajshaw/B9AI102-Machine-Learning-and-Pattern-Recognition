{
 "cells": [
  {
   "cell_type": "code",
   "execution_count": 13,
   "metadata": {},
   "outputs": [],
   "source": [
    "import requests \n",
    "from bs4 import BeautifulSoup\n",
    "import pandas as pd\n",
    "\n",
    "HEADERS ={\"User-Agent\":\"Mozilla/5.0 (Windows NT 10.0; Win64; x64; rv:66.0) Gecko/20100101 Firefox/66.0\", \"Accept-Encoding\":\"gzip, deflate\", \"Accept\":\"text/html,application/xhtml+xml,application/xml;q=0.9,*/*;q=0.8\", \"DNT\":\"1\",\"Connection\":\"close\", \"Upgrade-Insecure-Requests\":\"1\"}"
   ]
  },
  {
   "cell_type": "code",
   "execution_count": 21,
   "metadata": {},
   "outputs": [
    {
     "data": {
      "text/plain": [
       "200"
      ]
     },
     "execution_count": 21,
     "metadata": {},
     "output_type": "execute_result"
    }
   ],
   "source": [
    "Rating=[]\n",
    "Title=[]\n",
    "Price=[]\n",
    "\n",
    "# for i in range(1,5):\n",
    "# URL='https://www.amazon.in/gp/bestsellers/computers/1375424031/ref=zg_bs_pg_'+str(i)+'?ie=UTF8&pg=' + str(i)\n",
    "URL= 'https://www.amazon.in/gp/bestsellers/computers/1375424031/ref=zg_bs_pg_1?ie=UTF8&pg=1'\n",
    "r = requests.get(URL,HEADERS) \n",
    "\n",
    "\n",
    "r.status_code"
   ]
  },
  {
   "cell_type": "code",
   "execution_count": 22,
   "metadata": {},
   "outputs": [
    {
     "name": "stdout",
     "output_type": "stream",
     "text": [
      "[]\n",
      "[]\n",
      "[]\n"
     ]
    }
   ],
   "source": [
    "soup = BeautifulSoup(r.content, 'html.parser')\n",
    "soup1 = BeautifulSoup(soup.prettify(), \"html.parser\")\n",
    "\n",
    "title = soup1.find_all(\"a\", class_=\"_p13n-zg-list-grid-desktop_truncationStyles_p13n-sc-css-line-clamp-3__g3dy1\")\n",
    "price = soup1.find_all(\"div\", class_=\"p13n-sc-price\")\n",
    "rating = soup1.find_all(\"div\", class_=\"a-icon-alt\")\n",
    "\n",
    "print(title)\n",
    "print(price)\n",
    "print(rating)\n",
    "\n",
    "for a in title:\n",
    "    Title.append(a.text)\n",
    "for b in price:    \n",
    "    Price.append(b.text)\n",
    "for c in rating:    \n",
    "    Rating.append(c.text)\n",
    "\n",
    "\n",
    "Price=list(map(lambda x: x.replace('₹',''),Price))\n",
    "Price=list(map(lambda x: x.replace(',',''),Price))\n"
   ]
  },
  {
   "cell_type": "code",
   "execution_count": 16,
   "metadata": {},
   "outputs": [
    {
     "data": {
      "text/html": [
       "<div>\n",
       "<style scoped>\n",
       "    .dataframe tbody tr th:only-of-type {\n",
       "        vertical-align: middle;\n",
       "    }\n",
       "\n",
       "    .dataframe tbody tr th {\n",
       "        vertical-align: top;\n",
       "    }\n",
       "\n",
       "    .dataframe thead th {\n",
       "        text-align: right;\n",
       "    }\n",
       "</style>\n",
       "<table border=\"1\" class=\"dataframe\">\n",
       "  <thead>\n",
       "    <tr style=\"text-align: right;\">\n",
       "      <th></th>\n",
       "    </tr>\n",
       "  </thead>\n",
       "  <tbody>\n",
       "  </tbody>\n",
       "</table>\n",
       "</div>"
      ],
      "text/plain": [
       "Empty DataFrame\n",
       "Columns: []\n",
       "Index: []"
      ]
     },
     "execution_count": 16,
     "metadata": {},
     "output_type": "execute_result"
    }
   ],
   "source": [
    "Data =list(zip(Title,Price,Rating))\n",
    "df = pd.DataFrame(Data)\n",
    "df.head(10)"
   ]
  },
  {
   "cell_type": "code",
   "execution_count": null,
   "metadata": {},
   "outputs": [],
   "source": []
  }
 ],
 "metadata": {
  "interpreter": {
   "hash": "5fe1fcd2991f7baa594c143b16568e881f2bc5615b90488f548e6e6f590580f0"
  },
  "kernelspec": {
   "display_name": "Python 3.9.7 64-bit",
   "language": "python",
   "name": "python3"
  },
  "language_info": {
   "codemirror_mode": {
    "name": "ipython",
    "version": 3
   },
   "file_extension": ".py",
   "mimetype": "text/x-python",
   "name": "python",
   "nbconvert_exporter": "python",
   "pygments_lexer": "ipython3",
   "version": "3.9.7"
  },
  "orig_nbformat": 4
 },
 "nbformat": 4,
 "nbformat_minor": 2
}
