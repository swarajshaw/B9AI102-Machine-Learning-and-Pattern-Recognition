{
 "cells": [
  {
   "cell_type": "markdown",
   "metadata": {},
   "source": [
    "# CA ASSIGNMENT"
   ]
  },
  {
   "cell_type": "markdown",
   "metadata": {},
   "source": [
    "Create a class Employee, and create and test a function to compute net pay from payment, work and tax credit information.\n",
    "\n",
    "Employee should have the following attributes:\n",
    "StaffID, LastName, FirstName, RegHours, HourlyRate, OTMultiple, TaxCredit, StandardBand,\n",
    "\n",
    "For Example:\n",
    "\n",
    "jg= Employee(12345,'Green','Joe', 37, 16, 1.5, 72, 710)\n",
    "\n",
    "Create a method computePayment in class Employee which takes HoursWorked and date as input, and returns a payment information dictionary as follows: (if jg is an Employee object for worker Joe Green)\n",
    "\n",
    "We will assume a standard rate of 20% and a higher rate of 40%, and that PRSI at 4% is not subject to allowances. (we will ignore USC etc.)\n",
    "\n",
    ">>>jg.computePayment(42 '31/10/2021')\n",
    "\n",
    "{'name': 'Joe Green', 'Date':'31/10/2021', 'Regular Hours Worked':37,'Overtime Hours Worked':5,'Regular Rate':16,'Overtime Rate':24, 'Regular Pay':592,'Overtime Pay':120,'Gross Pay':712, 'Standard Rate Pay':710,'Higher Rate Pay':2, 'Standard Tax':142,'Higher Tax':0.8,'Total Tax':142.8,'Tax Credit':72, 'Net Tax':70.8, 'PRSI': 28.48,'Net Deductions':99.28, 'Net Pay': 612.72}\n",
    "\n",
    "Test your class and method thoroughly, and at a minimum include test cases testing the following:\n",
    "\n",
    "Net pay cannot exceed gross pay \n",
    "\n",
    "#TestMethod\n",
    "\n",
    "def testNetLessEqualGross(self):\n",
    "  e=Employee(#Joe Green's Information)\n",
    "  pi=e.computePayment(1,'31/10/2021')\n",
    "  self.assertLessEqual(pi['Net Pay'],pi['Gross Pay'])\n",
    "\n",
    "Overtime pay or overtime hours cannot be negative.\n",
    "\n",
    "Regular Hours Worked cannot exceed hours worked\n",
    "\n",
    "Higher Tax cannot be negative.\n",
    "\n",
    "Net Pay cannot be negative."
   ]
  },
  {
   "cell_type": "code",
   "execution_count": null,
   "metadata": {},
   "outputs": [],
   "source": [
    "class employee:\n",
    "\n",
    "    def __init__(self, StaffId, FirstName, LastName,):\n",
    "        self.__FirstName = FirstName\n",
    "        self.__LastName = LastName\n",
    "        self.__StaffId = StaffId"
   ]
  }
 ],
 "metadata": {
  "language_info": {
   "name": "python"
  },
  "orig_nbformat": 4
 },
 "nbformat": 4,
 "nbformat_minor": 2
}
