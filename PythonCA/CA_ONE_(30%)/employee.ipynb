{
 "cells": [
  {
   "cell_type": "markdown",
   "metadata": {},
   "source": [
    "# CA ASSIGNMENT\n"
   ]
  },
  {
   "cell_type": "markdown",
   "metadata": {},
   "source": [
    "Create a class Employee, and create and test a function to compute net pay from payment, work and tax credit information.\n",
    "\n",
    "Employee should have the following attributes:\n",
    "StaffID, LastName, FirstName, RegHours, HourlyRate, OTMultiple, TaxCredit, StandardBand,\n",
    "\n",
    "For Example:\n",
    "\n",
    "jg= Employee(12345,'Green','Joe', 37, 16, 1.5, 72, 710)\n",
    "\n",
    "Create a method computePayment in class Employee which takes HoursWorked and date as input, and returns a payment information dictionary as follows: (if jg is an Employee object for worker Joe Green)\n",
    "\n",
    "We will assume a standard rate of 20% and a higher rate of 40%, and that PRSI at 4% is not subject to allowances. (we will ignore USC etc.)\n",
    "\n",
    "> > > jg.computePayment(42 '31/10/2021')\n",
    "\n",
    "{'name': 'Joe Green', 'Date':'31/10/2021', 'Regular Hours Worked':37,'Overtime Hours Worked':5,'Regular Rate':16,'Overtime Rate':24, 'Regular Pay':592,'Overtime Pay':120,'Gross Pay':712, 'Standard Rate Pay':710,'Higher Rate Pay':2, 'Standard Tax':142,'Higher Tax':0.8,'Total Tax':142.8,'Tax Credit':72, 'Net Tax':70.8, 'PRSI': 28.48,'Net Deductions':99.28, 'Net Pay': 612.72}\n",
    "\n",
    "Test your class and method thoroughly, and at a minimum include test cases testing the following:\n",
    "\n",
    "Net pay cannot exceed gross pay\n",
    "\n",
    "#TestMethod\n",
    "\n",
    "def testNetLessEqualGross(self):\n",
    "e=Employee(#Joe Green's Information)\n",
    "pi=e.computePayment(1,'31/10/2021')\n",
    "self.assertLessEqual(pi['Net Pay'],pi['Gross Pay'])\n",
    "\n",
    "Overtime pay or overtime hours cannot be negative.\n",
    "\n",
    "Regular Hours Worked cannot exceed hours worked\n",
    "\n",
    "Higher Tax cannot be negative.\n",
    "\n",
    "Net Pay cannot be negative.\n"
   ]
  },
  {
   "cell_type": "code",
   "execution_count": 35,
   "metadata": {},
   "outputs": [],
   "source": [
    "class Employee():\n",
    "\n",
    "    # intialize employee attributes\n",
    "    def __init__(self, StaffId, LastName, FirstName, RegHours, HourlyRate, OTMultiple, TaxCredit, StandardBand):\n",
    "        self.__StaffId = StaffId\n",
    "        self.__LastName = LastName\n",
    "        self.__FirstName = FirstName\n",
    "        #Regular Hours\n",
    "        self.__RegHours = RegHours\n",
    "        if RegHours <0:\n",
    "            raise ValueError(\"Expected positive regular hours\")\n",
    "        self.__HourlyRate = HourlyRate\n",
    "        self.__OTMultiple = OTMultiple\n",
    "        self.__TaxCredit = TaxCredit\n",
    "        self.__StandardBand = StandardBand\n",
    "        self.__standardRate = 0.2\n",
    "        self.__higherRate = 0.4\n",
    "\n",
    "    def computePayment(self, hoursWorked, date):\n",
    "        # default\n",
    "        OTHoursWorked = 0.0\n",
    "\n",
    "        if hoursWorked < 0:\n",
    "            raise ValueError(\"expected positive hours\")\n",
    "        if hoursWorked == 0:\n",
    "            raise ValueError(\"expected hours minimum '1'\")\n",
    "            \n",
    "        if(hoursWorked - self.__RegHours) < 0:\n",
    "            regular_HoursWorked = hoursWorked\n",
    "        else:\n",
    "            regular_HoursWorked = self.__RegHours\n",
    "\n",
    "        NetTax = 0.0\n",
    "\n",
    "        # OT\n",
    "\n",
    "        if hoursWorked > self.__RegHours:\n",
    "            OTHoursWorked = hoursWorked - self.__RegHours\n",
    "        else:\n",
    "            OTHoursWorked = 0\n",
    "\n",
    "        RegularPay = regular_HoursWorked * self.__HourlyRate\n",
    "\n",
    "        OTRate = self.__OTMultiple * self.__HourlyRate\n",
    "\n",
    "        OTpay = OTHoursWorked * OTRate\n",
    "\n",
    "        RegularRate = self.__HourlyRate\n",
    "\n",
    "        GrossPay = RegularPay + OTpay\n",
    "\n",
    "        StandardRatePay = min(GrossPay, self.__StandardBand)\n",
    "\n",
    "        HigherRatePay = max(GrossPay - self.__StandardBand, 0)\n",
    "\n",
    "        StandardTax = StandardRatePay * self.__standardRate\n",
    "\n",
    "        HigherTax = HigherRatePay * self.__higherRate\n",
    "\n",
    "        TotalTax = StandardTax + HigherTax\n",
    "\n",
    "        if StandardTax < self.__TaxCredit:\n",
    "            TaxCredit = round(StandardTax, 2)\n",
    "        else:\n",
    "            TaxCredit = self.__TaxCredit\n",
    "        \n",
    "        if TotalTax < TaxCredit:\n",
    "            NetTax = TotalTax\n",
    "        else:\n",
    "            NetTax = round(TotalTax - TaxCredit, 2)\n",
    "\n",
    "        PRSI = 0.04 * GrossPay\n",
    "\n",
    "        NetDeductions = round(NetTax + PRSI, 2)\n",
    "\n",
    "        NetPay = GrossPay - NetDeductions\n",
    "\n",
    "        if NetPay < 0:\n",
    "            raise ValueError(\" Invalid NetPay \")\n",
    "\n",
    "        return{\n",
    "            'Name': self.__FirstName + ' ' + self.__LastName,\n",
    "            'Date': date, \n",
    "            'Regular Hours Worked': hoursWorked,\n",
    "            'Overtime Hours Worked': OTHoursWorked,\n",
    "            'Regular Rate': RegularRate,\n",
    "            'Overtime Rate':OTRate, \n",
    "            'Regular Pay':RegularPay,\n",
    "            'Overtime Pay':OTpay,\n",
    "            'Gross Pay':GrossPay, \n",
    "            'Standard Rate Pay': StandardRatePay,\n",
    "            'Higher Rate Pay':HigherRatePay, \n",
    "            'Standard Tax':StandardTax,\n",
    "            'Higher Tax':HigherTax,\n",
    "            'Total Tax':TotalTax,\n",
    "            'Tax Credit': TaxCredit, \n",
    "            'Net Tax': NetTax, \n",
    "            'PRSI': PRSI,\n",
    "            'Net Deductions':NetDeductions, \n",
    "            'Net Pay': NetPay\n",
    "        }\n"
   ]
  },
  {
   "cell_type": "code",
   "execution_count": 36,
   "metadata": {},
   "outputs": [
    {
     "ename": "ValueError",
     "evalue": "Expected positive regular hours",
     "output_type": "error",
     "traceback": [
      "\u001b[1;31m---------------------------------------------------------------------------\u001b[0m",
      "\u001b[1;31mValueError\u001b[0m                                Traceback (most recent call last)",
      "\u001b[1;32me:\\swaraj-ireland\\DBS\\ProgrammingAndDataAnalysis\\B9AI102-Machine-Learning-and-Pattern-Recognition\\PythonCA\\CA_ONE_(30%)\\employee.ipynb Cell 4'\u001b[0m in \u001b[0;36m<cell line: 1>\u001b[1;34m()\u001b[0m\n\u001b[1;32m----> <a href='vscode-notebook-cell:/e%3A/swaraj-ireland/DBS/ProgrammingAndDataAnalysis/B9AI102-Machine-Learning-and-Pattern-Recognition/PythonCA/CA_ONE_%2830%25%29/employee.ipynb#ch0000003?line=0'>1</a>\u001b[0m taxCalc \u001b[39m=\u001b[39m Employee(\u001b[39m12345\u001b[39;49m,\u001b[39m'\u001b[39;49m\u001b[39mGreen\u001b[39;49m\u001b[39m'\u001b[39;49m,\u001b[39m'\u001b[39;49m\u001b[39mJoe\u001b[39;49m\u001b[39m'\u001b[39;49m, \u001b[39m-\u001b[39;49m\u001b[39m37\u001b[39;49m, \u001b[39m16\u001b[39;49m, \u001b[39m1.5\u001b[39;49m, \u001b[39m72\u001b[39;49m, \u001b[39m710\u001b[39;49m)\n\u001b[0;32m      <a href='vscode-notebook-cell:/e%3A/swaraj-ireland/DBS/ProgrammingAndDataAnalysis/B9AI102-Machine-Learning-and-Pattern-Recognition/PythonCA/CA_ONE_%2830%25%29/employee.ipynb#ch0000003?line=1'>2</a>\u001b[0m taxCalc\u001b[39m.\u001b[39mcomputePayment(\u001b[39m1\u001b[39m,\u001b[39m'\u001b[39m\u001b[39m31/10/2021\u001b[39m\u001b[39m'\u001b[39m)\n",
      "\u001b[1;32me:\\swaraj-ireland\\DBS\\ProgrammingAndDataAnalysis\\B9AI102-Machine-Learning-and-Pattern-Recognition\\PythonCA\\CA_ONE_(30%)\\employee.ipynb Cell 3'\u001b[0m in \u001b[0;36mEmployee.__init__\u001b[1;34m(self, StaffId, LastName, FirstName, RegHours, HourlyRate, OTMultiple, TaxCredit, StandardBand)\u001b[0m\n\u001b[0;32m      <a href='vscode-notebook-cell:/e%3A/swaraj-ireland/DBS/ProgrammingAndDataAnalysis/B9AI102-Machine-Learning-and-Pattern-Recognition/PythonCA/CA_ONE_%2830%25%29/employee.ipynb#ch0000002?line=8'>9</a>\u001b[0m \u001b[39mself\u001b[39m\u001b[39m.\u001b[39m__RegHours \u001b[39m=\u001b[39m RegHours\n\u001b[0;32m     <a href='vscode-notebook-cell:/e%3A/swaraj-ireland/DBS/ProgrammingAndDataAnalysis/B9AI102-Machine-Learning-and-Pattern-Recognition/PythonCA/CA_ONE_%2830%25%29/employee.ipynb#ch0000002?line=9'>10</a>\u001b[0m \u001b[39mif\u001b[39;00m RegHours \u001b[39m<\u001b[39m\u001b[39m0\u001b[39m:\n\u001b[1;32m---> <a href='vscode-notebook-cell:/e%3A/swaraj-ireland/DBS/ProgrammingAndDataAnalysis/B9AI102-Machine-Learning-and-Pattern-Recognition/PythonCA/CA_ONE_%2830%25%29/employee.ipynb#ch0000002?line=10'>11</a>\u001b[0m     \u001b[39mraise\u001b[39;00m \u001b[39mValueError\u001b[39;00m(\u001b[39m\"\u001b[39m\u001b[39mExpected positive regular hours\u001b[39m\u001b[39m\"\u001b[39m)\n\u001b[0;32m     <a href='vscode-notebook-cell:/e%3A/swaraj-ireland/DBS/ProgrammingAndDataAnalysis/B9AI102-Machine-Learning-and-Pattern-Recognition/PythonCA/CA_ONE_%2830%25%29/employee.ipynb#ch0000002?line=11'>12</a>\u001b[0m \u001b[39mself\u001b[39m\u001b[39m.\u001b[39m__HourlyRate \u001b[39m=\u001b[39m HourlyRate\n\u001b[0;32m     <a href='vscode-notebook-cell:/e%3A/swaraj-ireland/DBS/ProgrammingAndDataAnalysis/B9AI102-Machine-Learning-and-Pattern-Recognition/PythonCA/CA_ONE_%2830%25%29/employee.ipynb#ch0000002?line=12'>13</a>\u001b[0m \u001b[39mself\u001b[39m\u001b[39m.\u001b[39m__OTMultiple \u001b[39m=\u001b[39m OTMultiple\n",
      "\u001b[1;31mValueError\u001b[0m: Expected positive regular hours"
     ]
    }
   ],
   "source": [
    "taxCalc = Employee(12345,'Green','Joe', 37, 16, 1.5, 72, 710)\n",
    "taxCalc.computePayment(1,'31/10/2021')"
   ]
  },
  {
   "cell_type": "code",
   "execution_count": 37,
   "metadata": {},
   "outputs": [],
   "source": [
    "# Unit Testing\n",
    "import unittest as ut\n",
    "\n",
    "class AppTest(ut.TestCase):\n",
    "\n",
    "    def NegativeHoursWorked(self):\n",
    "        \n",
    "        with self.assertRaises(ValueError):\n",
    "            app = Employee(12345,'Green','Joe', 37, 16, 1.5, 72, 710)\n",
    "            app.computePayment(-1, '25/03/2022')\n",
    "\n",
    "    def NegativeRegHours(self):\n",
    "        app = Employee(12345,'Green','Joe', -37, 16, 1.5, 72, 710)\n",
    "        with self.assertRaises(ValueError):\n",
    "            app.computePayment(42, '25/03/2022')\n",
    "\n"
   ]
  },
  {
   "cell_type": "code",
   "execution_count": 38,
   "metadata": {},
   "outputs": [
    {
     "name": "stderr",
     "output_type": "stream",
     "text": [
      "\n",
      "----------------------------------------------------------------------\n",
      "Ran 0 tests in 0.000s\n",
      "\n",
      "OK\n"
     ]
    },
    {
     "data": {
      "text/plain": [
       "<unittest.main.TestProgram at 0x1ceb642a850>"
      ]
     },
     "execution_count": 38,
     "metadata": {},
     "output_type": "execute_result"
    }
   ],
   "source": [
    "ut.main(argv=['ignored'], exit=False)"
   ]
  },
  {
   "cell_type": "code",
   "execution_count": null,
   "metadata": {},
   "outputs": [],
   "source": []
  }
 ],
 "metadata": {
  "interpreter": {
   "hash": "5fe1fcd2991f7baa594c143b16568e881f2bc5615b90488f548e6e6f590580f0"
  },
  "kernelspec": {
   "display_name": "Python 3.9.7 64-bit",
   "language": "python",
   "name": "python3"
  },
  "language_info": {
   "codemirror_mode": {
    "name": "ipython",
    "version": 3
   },
   "file_extension": ".py",
   "mimetype": "text/x-python",
   "name": "python",
   "nbconvert_exporter": "python",
   "pygments_lexer": "ipython3",
   "version": "3.9.7"
  },
  "orig_nbformat": 4
 },
 "nbformat": 4,
 "nbformat_minor": 2
}
